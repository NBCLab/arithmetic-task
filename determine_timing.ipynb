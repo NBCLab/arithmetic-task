{
 "cells": [
  {
   "cell_type": "code",
   "execution_count": 1,
   "metadata": {},
   "outputs": [],
   "source": [
    "import numpy as np"
   ]
  },
  {
   "cell_type": "code",
   "execution_count": 2,
   "metadata": {},
   "outputs": [],
   "source": [
    "TOTAL_DURATION = 450.\n",
    "LEAD_IN_DURATION = 6.\n",
    "EQUATION_DURATION = 2.\n",
    "ISI1 = 0.5\n",
    "COMPARISON_DURATION = 5.\n",
    "ISI2 = 0.5\n",
    "FEEDBACK_DURATION = 2.\n",
    "ITI = 0.5\n",
    "END_SCREEN_DURATION = 6.\n",
    "\n",
    "duration_left = TOTAL_DURATION - (LEAD_IN_DURATION + END_SCREEN_DURATION)"
   ]
  },
  {
   "cell_type": "code",
   "execution_count": 3,
   "metadata": {},
   "outputs": [],
   "source": [
    "# parameters to test\n",
    "ranges = {\n",
    "    'equation': (2, 4),\n",
    "    'isi1': (0.5, 2.5),\n",
    "    'comparison': (3, 7),\n",
    "    'isi2': (0.5, 2.5),\n",
    "    'feedback': (1, 3),\n",
    "    'iti': (0.5, 5),\n",
    "}\n",
    "\n",
    "n_trials = 29"
   ]
  },
  {
   "cell_type": "code",
   "execution_count": 4,
   "metadata": {},
   "outputs": [
    {
     "name": "stdout",
     "output_type": "stream",
     "text": [
      "427.6 / 438.0\n"
     ]
    }
   ],
   "source": [
    "c = 0\n",
    "total_trial_duration = np.inf\n",
    "while total_trial_duration > duration_left:\n",
    "    durations = {}\n",
    "    for stage, range_ in ranges.items():\n",
    "        # using uniform distributions...\n",
    "        durations[stage] = np.random.randint(range_[0]*10, range_[1]*10, size=n_trials) / 10\n",
    "    dur_arr = np.stack(list(durations.values()))\n",
    "    total_trial_duration = dur_arr.sum()\n",
    "    c += 1\n",
    "    if c > 1000:\n",
    "        print('No solution found.')\n",
    "        break\n",
    "print('{} / {}'.format(dur_arr.sum(), duration_left))"
   ]
  },
  {
   "cell_type": "code",
   "execution_count": null,
   "metadata": {},
   "outputs": [],
   "source": []
  },
  {
   "cell_type": "code",
   "execution_count": 5,
   "metadata": {},
   "outputs": [
    {
     "data": {
      "text/plain": [
       "{'comparison': array([5.1, 6.4, 6.8, 5.8, 4. , 4.7, 5.3, 3.6, 4.5, 4.8, 3.1, 4.7, 6.8,\n",
       "        4.3, 4. , 4.1, 3.1, 6.6, 5.1, 5. , 6.5, 4.3, 5.4, 3.5, 3. , 6.8,\n",
       "        6.5, 3.9, 4. ]),\n",
       " 'equation': array([3.7, 3.1, 3.2, 3.9, 3.2, 2.6, 2.7, 3.3, 3. , 2.3, 3.3, 3.1, 3.2,\n",
       "        3.4, 2.3, 3.6, 3.4, 2. , 2.6, 3.7, 3.6, 2.7, 3.6, 2.5, 3.2, 2.1,\n",
       "        2.8, 3. , 2.5]),\n",
       " 'feedback': array([1.5, 1.1, 2.7, 1.8, 2.2, 1.8, 1.3, 1.5, 1.4, 1.6, 2.2, 2. , 2.3,\n",
       "        1. , 1.1, 1. , 2.4, 2. , 2. , 2.7, 1.1, 1.4, 1.6, 1.1, 1.7, 1.4,\n",
       "        1.7, 1.7, 1.3]),\n",
       " 'isi1': array([1.3, 0.7, 0.9, 2. , 0.9, 1.5, 0.5, 2.3, 2.2, 0.6, 0.7, 0.7, 0.9,\n",
       "        2.1, 1.8, 0.7, 2. , 2.3, 1.8, 1.7, 1.8, 1.1, 1.1, 1.2, 1.6, 2.3,\n",
       "        0.9, 1.6, 0.6]),\n",
       " 'isi2': array([1.2, 1.7, 1.2, 2.2, 1.4, 1.2, 1.1, 0.9, 2.2, 2.4, 1. , 0.5, 0.5,\n",
       "        2. , 1.3, 2.3, 0.6, 2.3, 1.6, 1.4, 0.6, 2. , 0.7, 1. , 2.1, 0.5,\n",
       "        1.5, 0.6, 0.7]),\n",
       " 'iti': array([4.2, 4.5, 0.5, 1.7, 1.6, 4.7, 1.6, 2. , 1.4, 2.4, 0.6, 0.7, 3.5,\n",
       "        4.1, 2.6, 2.7, 4.4, 2. , 2. , 2.4, 1.7, 0.7, 0.8, 3.5, 1.7, 4.3,\n",
       "        2.7, 1.3, 4.9])}"
      ]
     },
     "execution_count": 5,
     "metadata": {},
     "output_type": "execute_result"
    }
   ],
   "source": [
    "durations"
   ]
  },
  {
   "cell_type": "code",
   "execution_count": null,
   "metadata": {},
   "outputs": [],
   "source": []
  }
 ],
 "metadata": {
  "kernelspec": {
   "display_name": "Python [conda env:python3]",
   "language": "python",
   "name": "conda-env-python3-py"
  },
  "language_info": {
   "codemirror_mode": {
    "name": "ipython",
    "version": 3
   },
   "file_extension": ".py",
   "mimetype": "text/x-python",
   "name": "python",
   "nbconvert_exporter": "python",
   "pygments_lexer": "ipython3",
   "version": "3.6.4"
  }
 },
 "nbformat": 4,
 "nbformat_minor": 2
}
