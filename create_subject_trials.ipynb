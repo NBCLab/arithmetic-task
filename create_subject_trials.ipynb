{
 "cells": [
  {
   "cell_type": "code",
   "execution_count": 51,
   "metadata": {},
   "outputs": [],
   "source": [
    "import json\n",
    "import itertools as it\n",
    "import numpy as np\n",
    "\n",
    "def math_gen(runs, trials, operators=['*', '+', '-', '/'], num_types=['n', 'a'], fdbk_types=['informative', 'noninformative']):\n",
    "    run_dict = {}\n",
    "    for x in range(1, runs + 1):\n",
    "        full_operators = [x for x in operators for i in range(int(np.ceil(trials / len(operators))))]\n",
    "        op_combs = [x for x in it.combinations(operators * int(np.ceil(trials / len(operators))), trials)]\n",
    "        chosen_comb = list(op_combs[np.random.randint(len(op_combs))])\n",
    "        np.random.shuffle(chosen_comb)\n",
    "        equations = [str(np.random.randint(0, 30)) + operator + str(np.random.randint(0, 30)) for operator in chosen_comb]\n",
    "        fdbk_type = [x for x in it.combinations(fdbk_types * int(np.ceil(trials / len(fdbk_types))), trials)]\n",
    "        fdbk_type = list(fdbk_type[np.random.randint(len(fdbk_type))])\n",
    "        np.random.shuffle(fdbk_type)\n",
    "        num_type = [x for x in it.combinations(num_types * int(np.ceil(trials / len(num_types))), trials)]\n",
    "        num_type = list(num_type[np.random.randint(len(num_type))])\n",
    "        #fdbk_type = list(fdbk_type[np.random.randint(len(fdbk_type))])\n",
    "        comparison = [str(x) for x in np.random.randint(1, 31, trials)]\n",
    "        run_dict[x] = list(zip(equations, fdbk_type, num_type, comparison))\n",
    "        \n",
    "    return run_dict"
   ]
  },
  {
   "cell_type": "code",
   "execution_count": 52,
   "metadata": {},
   "outputs": [],
   "source": [
    "subject_dict = {}\n",
    "for subject in [f'{x:03d}' for x in range(1, 101)]:\n",
    "    subject_dict[subject] = math_gen(3, 99)\n",
    "with open('config/subject_config.json', 'w') as fw:\n",
    "    json.dump(subject_dict, fw, indent=4)"
   ]
  },
  {
   "cell_type": "code",
   "execution_count": 48,
   "metadata": {},
   "outputs": [
    {
     "data": {
      "text/plain": [
       "'*'"
      ]
     },
     "execution_count": 48,
     "metadata": {},
     "output_type": "execute_result"
    }
   ],
   "source": [
    "[x for x in '1*2' if not x.isdigit()][0]"
   ]
  },
  {
   "cell_type": "code",
   "execution_count": 50,
   "metadata": {},
   "outputs": [
    {
     "data": {
      "text/plain": [
       "'\\x02'"
      ]
     },
     "execution_count": 50,
     "metadata": {},
     "output_type": "execute_result"
    }
   ],
   "source": [
    "'\\2'"
   ]
  },
  {
   "cell_type": "code",
   "execution_count": null,
   "metadata": {},
   "outputs": [],
   "source": []
  }
 ],
 "metadata": {
  "kernelspec": {
   "display_name": "Python 3",
   "language": "python",
   "name": "python3"
  },
  "language_info": {
   "codemirror_mode": {
    "name": "ipython",
    "version": 3
   },
   "file_extension": ".py",
   "mimetype": "text/x-python",
   "name": "python",
   "nbconvert_exporter": "python",
   "pygments_lexer": "ipython3",
   "version": "3.6.7"
  }
 },
 "nbformat": 4,
 "nbformat_minor": 2
}
