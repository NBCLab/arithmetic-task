{
 "cells": [
  {
   "cell_type": "markdown",
   "metadata": {},
   "source": [
    "# Generate stimuli for task"
   ]
  },
  {
   "cell_type": "code",
   "execution_count": 1,
   "metadata": {},
   "outputs": [],
   "source": [
    "%matplotlib inline\n",
    "import os.path as op\n",
    "import matplotlib.pyplot as plt\n",
    "from num2words import num2words"
   ]
  },
  {
   "cell_type": "code",
   "execution_count": 2,
   "metadata": {},
   "outputs": [],
   "source": [
    "out_dir = op.realpath('../stimuli/')"
   ]
  },
  {
   "cell_type": "code",
   "execution_count": 3,
   "metadata": {},
   "outputs": [],
   "source": [
    "# Make analog images\n",
    "plt.style.use('dark_background')\n",
    "for value in range(1, 31):\n",
    "    fig, axes = plt.subplots(nrows=5, ncols=6, squeeze=False, figsize=(6, 5))\n",
    "    for i, ax in enumerate(axes.flat):\n",
    "        if i + 1 <= value:\n",
    "            circle = plt.Circle((.5, .5), radius=0.45, fc='white')\n",
    "            ax.add_patch(circle)\n",
    "        ax.set(xticklabels=[], yticklabels=[])\n",
    "        ax.xaxis.set_ticks_position('none')\n",
    "        ax.yaxis.set_ticks_position('none')\n",
    "        for spine in ['top', 'left', 'bottom', 'right']:\n",
    "            ax.spines[spine].set_linewidth(1.5)\n",
    "    fig.subplots_adjust(hspace=0, wspace=0)\n",
    "    fig.savefig(op.join(out_dir, f'numerals/{value:02d}_a.png'), dpi=72)\n",
    "    plt.close()"
   ]
  },
  {
   "cell_type": "code",
   "execution_count": 4,
   "metadata": {},
   "outputs": [],
   "source": [
    "# Make numeral images for numbers\n",
    "plt.style.use('dark_background')\n",
    "for value in range(-40, 911):\n",
    "    fig = plt.figure(figsize=(6, 5), facecolor='black')\n",
    "    plt.text(0.5, 0.4, value, color='white', size=240, ha='center', va='center')\n",
    "    for ax in fig.axes:\n",
    "        ax.set(xticklabels=[], yticklabels=[])\n",
    "        ax.xaxis.set_ticks_position('none')\n",
    "        ax.yaxis.set_ticks_position('none')\n",
    "        for spine in ['top', 'left', 'bottom', 'right']:\n",
    "            ax.spines[spine].set_linewidth(0)\n",
    "    fig.savefig(op.join(out_dir, f'numerals/{value:02d}_n.png'), dpi=72, bbox_inches='tight')\n",
    "    plt.close()"
   ]
  },
  {
   "cell_type": "code",
   "execution_count": 5,
   "metadata": {},
   "outputs": [],
   "source": [
    "# Make numeral/analog images for operators\n",
    "plt.style.use('dark_background')\n",
    "operators = {'+': 'add', '-':'subtract', '\\u00F7':'divide', '\\u00D7':'multiply'}\n",
    "for value in ['+', '-', '\\u00F7', '\\u00D7']:\n",
    "    fig = plt.figure(figsize=(3, 2), facecolor='black')\n",
    "    plt.text(0.5, 0.25, value, color='white', size=240, ha='center', va='center')\n",
    "    for ax in fig.axes:\n",
    "        ax.set(xticklabels=[], yticklabels=[])\n",
    "        ax.xaxis.set_ticks_position('none')\n",
    "        ax.yaxis.set_ticks_position('none')\n",
    "        for spine in ['top', 'left', 'bottom', 'right']:\n",
    "            ax.spines[spine].set_linewidth(0)\n",
    "    fig.savefig(op.join(out_dir, f'numerals/{operators[value]}_n.png'), dpi=72, bbox_inches='tight')\n",
    "    fig.savefig(op.join(out_dir, f'numerals/{operators[value]}_a.png'), dpi=72, bbox_inches='tight')\n",
    "    plt.close()"
   ]
  },
  {
   "cell_type": "code",
   "execution_count": 6,
   "metadata": {},
   "outputs": [],
   "source": [
    "# Make word images for numbers\n",
    "plt.style.use('dark_background')\n",
    "for value in range(-40, 911):\n",
    "    fig = plt.figure(figsize=(6, 5), facecolor='black')\n",
    "    word = num2words(value).replace('minus', 'negative').replace(' and ', ' ')\n",
    "    if len(word) > 13:\n",
    "        word = word.replace('hundred ', 'hundred\\n')\n",
    "        word = word.replace('negative ', 'negative\\n')\n",
    "\n",
    "    plt.text(0.5, 0.4, word, color='white', size=240, ha='center', va='center')\n",
    "    for ax in fig.axes:\n",
    "        ax.set(xticklabels=[], yticklabels=[])\n",
    "        ax.xaxis.set_ticks_position('none')\n",
    "        ax.yaxis.set_ticks_position('none')\n",
    "        for spine in ['top', 'left', 'bottom', 'right']:\n",
    "            ax.spines[spine].set_linewidth(0)\n",
    "    fig.savefig(op.join(out_dir, f'numerals/{value:02d}_w.png'), dpi=72, bbox_inches='tight')\n",
    "    plt.close()"
   ]
  },
  {
   "cell_type": "code",
   "execution_count": 7,
   "metadata": {},
   "outputs": [],
   "source": [
    "# Make word images for operators\n",
    "plt.style.use('dark_background')\n",
    "operators = {'plus': 'add', 'minus':'subtract', 'divided by':'divide', 'times':'multiply'}\n",
    "for value in ['plus', 'minus', 'divided by', 'times']:\n",
    "    n_chars = len(value)\n",
    "    fig = plt.figure(figsize=(n_chars*2, 5), facecolor='black')\n",
    "    plt.text(0.5, 0.45, value, color='white', size=240, ha='center', va='center')\n",
    "    for ax in fig.axes:\n",
    "        ax.set(xticklabels=[], yticklabels=[])\n",
    "        ax.xaxis.set_ticks_position('none')\n",
    "        ax.yaxis.set_ticks_position('none')\n",
    "        for spine in ['top', 'left', 'bottom', 'right']:\n",
    "            ax.spines[spine].set_linewidth(0)\n",
    "    fig.savefig(op.join(out_dir, f'numerals/{operators[value]}_w.png'), dpi=72, bbox_inches='tight')\n",
    "    plt.close()"
   ]
  }
 ],
 "metadata": {
  "kernelspec": {
   "display_name": "Python [default]",
   "language": "python",
   "name": "python3"
  },
  "language_info": {
   "codemirror_mode": {
    "name": "ipython",
    "version": 3
   },
   "file_extension": ".py",
   "mimetype": "text/x-python",
   "name": "python",
   "nbconvert_exporter": "python",
   "pygments_lexer": "ipython3",
   "version": "3.6.4"
  }
 },
 "nbformat": 4,
 "nbformat_minor": 2
}
